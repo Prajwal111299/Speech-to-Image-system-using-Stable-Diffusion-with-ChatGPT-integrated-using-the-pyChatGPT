{
  "cells": [
    {
      "cell_type": "markdown",
      "metadata": {
        "id": "kvi6cAEHY5sh"
      },
      "source": [
        "# Installation"
      ]
    },
    {
      "cell_type": "code",
      "execution_count": null,
      "metadata": {
        "colab": {
          "base_uri": "https://localhost:8080/"
        },
        "id": "ZsJUxc0aRsAf",
        "outputId": "a8c67ca0-7275-4a9a-8c33-eb640a851b0d"
      },
      "outputs": [
        {
          "name": "stdout",
          "output_type": "stream",
          "text": [
            "  Installing build dependencies ... \u001b[?25l\u001b[?25hdone\n",
            "  Getting requirements to build wheel ... \u001b[?25l\u001b[?25hdone\n",
            "  Preparing metadata (pyproject.toml) ... \u001b[?25l\u001b[?25hdone\n",
            "  Installing build dependencies ... \u001b[?25l\u001b[?25hdone\n",
            "  Getting requirements to build wheel ... \u001b[?25l\u001b[?25hdone\n",
            "  Preparing metadata (pyproject.toml) ... \u001b[?25l\u001b[?25hdone\n"
          ]
        }
      ],
      "source": [
        "!pip install -q gradio\n",
        "!pip install -q pyChatGPT\n",
        "!pip install -q git+https://github.com/openai/whisper.git\n",
        "!pip install -q --upgrade git+https://github.com/huggingface/diffusers.git transformers accelerate scipy"
      ]
    },
    {
      "cell_type": "markdown",
      "metadata": {
        "id": "usUSep_lY7q8"
      },
      "source": [
        "# Imports"
      ]
    },
    {
      "cell_type": "code",
      "execution_count": null,
      "metadata": {
        "id": "Kr5faKybKi4p"
      },
      "outputs": [],
      "source": [
        "import whisper\n",
        "import gradio as gr\n",
        "import time\n",
        "import warnings\n",
        "import torch\n",
        "from pyChatGPT import ChatGPT\n",
        "from diffusers import StableDiffusionPipeline, EulerDiscreteScheduler"
      ]
    },
    {
      "cell_type": "markdown",
      "metadata": {
        "id": "EyW6weauY9gf"
      },
      "source": [
        "# Defining Variables"
      ]
    },
    {
      "cell_type": "code",
      "execution_count": null,
      "metadata": {
        "id": "u_6_s2iHboR4"
      },
      "outputs": [],
      "source": [
        "warnings.filterwarnings(\"ignore\")"
      ]
    },
    {
      "cell_type": "code",
      "execution_count": null,
      "metadata": {
        "id": "HP2ovD3xaDfC"
      },
      "outputs": [],
      "source": [
        "secret_token = \"eyJhbGciOiJkaXIiLCJlbmMiOiJBMjU2R0NNIn0..wRzrk94Y-RyOPxZD.ZBiMpu8o4BB-4FGBJsobx0osN9bIsy0DczNk0I1hcG7NmjsfY8tBnjroS8mRcCJEDhhl6-9cjJrAabgvc5Giql8X4dIKEArwLIclhalZ9OT1JSZ3krqysnqAhT9IasdljAbDhyKSQ_15iJLSp45L758lS0xVQy_B0GeiB51DoxNJ-0M52m1G4R6n_lUiGBvq4263TDM9aXynQ6b8mja8rSEulej3vhISJjkyHqUuWY_rUy70sKLRW-__4p2Xf7Y7mAU3H_yENPuKxqnt2GmwxHjsdQCVHzKVca6z_oDaE9-Q04lLzk6z4GhFP50QsQU1sAAa_qh4zFYqr9ulo0ZMQPAXSy8bt29OVFEaPyihT9C6nlZN7HVc1UXWGjgJFuk_fm6NH3R9Cri7_x8-vFbpKljXTqdTSYgEg8U99TJzuwe_SXcyMuqO2T7NDLAsGriw20zliKf3Z8YYCZdmu_zpGE9xyyw49ShcuAHuH7Jldhm3o0x-010fXoes5VQAnh79qTuSCiIzjCBZZcqTEAXxZEtbtowDCOEoX23THRs7Ak8FXZ0lp4AET-ZpzXJ62E8VzcJebPvUY77WAMqDVMXkbei2N1kzUlKZIkfadfG9GP98VbthVzG0r2PWEMgqzvibzWCsyyvIcJbGfAURRvbjZbY0V09JexP-diBlZ0-OK5MqZfxe5Q2vTqZ92kmZrEmX8eSHRIq2RlA4NmvFUfToP_b7fWLWNklXR4lgsxjfFbGGsefu_KhMsbERZXGaocUyL_flGM4Ot6O9Rs5b4YzkdxlMvX91e183fjK2IcB8CNeJJ0ZRldbzrC01ZU2mm-_nWLYnrwp7fLuHmhJBcvRsUANf0IqqvNydFa31oTlSo1QORs6mwUnCocxe0HIRWi_xilgeNjcnUfVefIp9-XCcs8GwF18L-20ru-lpMrchn6J_vY68slzdZWNzFz6P3T7eGsaoBngBNNfBiBQiWN_ogmrxQFwvm3BoblU4L9Kqn-A6WCtjTqbyJ41qzTLwYUYbukGZFHqo1eVxs1T_yO-1RgCALpjHJmg2NGS5KBm3YC8Gee-GXYwtMXXqdzZbf6VHb5yJ11vndniPCwzmuP-PeMRke2GL6v0s07dwssRuFmxfWDzfmMNjyOxYSXlymVN7Fi7529HRuXX0AUpmN70bBPKB67I7dp7Ua5YMEdLilmxbm6x-4I_OmqoC39VdIidqzttdQplFNchgLtGjfoAoTK_fG_wMeh5F_6J9Sekmh7tGpYoa-nlLUwTFMnEjRVVDGASuRLxX-KpA1d6lI-xuYCstpIfvzNltfkltZCsxisxVsjmzEOdMP6uMnbjVgtBpptgknBu3x8A29uSaI8tEHmTQ_5YtMDvazXAJo3etIrcSiFfOtwiBAjwPya7nPQP9t2vAos_XMf6rqpeHBo_e8iUnVXvkvW7SlOelCFpVfzWlSoY80wAuMy6IWAlSPgUWfjzdDxvAH72sqikQimbPPu3nolfhJJLAz14w9cdDeUAfiihRk05HyON3KMd4NCpyawGSv5lQUWhSMMsxysz5nklFV5mmHrV1ut39RrEAgxBgjEtCjSU6z85WTpACmaisLJblAKKGGzf30vmIAJsZlQsCT_OO7ehBBuDzyNNxFnCnByi0B_bz3g9vA2X375-5CSafkwxKBfUdmSJXT75JJ95bYMIyLDpxY-BO9dlZeixbWgt5MCL_ef506298Yfkw87Lx8NMAlmupcnu_OUm0Ldzh0VBEu2AJN3tUO9G-kgs0t-6-pCbfpIoGEQmPQBc8A0w8Rf3a5RZFJ-ywuDydAmm1YMo1-Sz3_rRc-ZHGtSI0A9M_gimaB0n_og7G3fmdrGuIYxZyDUNgbFdQrWvlQ9g88cr10dYaMF4ddsO8etr3dXKrQaG_f4PMrPN4weK_uFnOiez9VWpbxSAkD7hVLJxD-fiLVisnURnQV9BOxikEXEKUK4jgN55br90T1yrOcEU4l6gac4XZV_w8TOuC_6xustWn0pYUCxtyYCog0_ev7-I4uhXQw1quUG-tj5sDS9odW_ek_8ggCa-AHEEz6uecPBb3B_BkEm19ZWkkvxGkw_RuQYqsywMlIoORdZstMo5of7t22B1lCkAf1mJfdFgQNKLf_xWKk-gm5h91l5rlGkx0NDrKraBI6-XyIc0YH29G5wGpAk5u2Sok56u5YSPR59RCzH8uyPuCS4FZ-4nNJr9xcSbiTmffeBMTMNgLZ3xL7X4BRHEtUslB5QGZ6BFl91l_kXF-8efl_5cIIM9WnqSCWxWNpgYEzxvVIjXwX60Ctcsu1AGwezXsElmgqq0EopdZhjN9ABbgbNW9CXQzrpxGn1LJP8WNJhVpFp3yuTFveuMbMDYeFi6y-otxYc88tRgSwpFFWwsWFqZNYfUl5fGwKloWC7uOY5SnLEgc6sy0lNygPe2_DVY4aWQj_P0RB3O2WQrRkNCUS7uGufPa5j0wHXd0Kva9h7GEJYprZ6KWW7toL5PJGHjfrpjbcx9AI20E_6dSmKDLnvDiVJHTyeKJQ7sInanUcju1DpDfxAWmm1zBlYGPI1lIfmu7WxmlzYf_qj4.T-Hh6Mho8ws211v6wfp3gQ\""
      ]
    },
    {
      "cell_type": "code",
      "execution_count": null,
      "metadata": {
        "id": "cMNnv3oHaDt8"
      },
      "outputs": [],
      "source": [
        "model = whisper.load_model(\"base\")"
      ]
    },
    {
      "cell_type": "code",
      "execution_count": null,
      "metadata": {
        "colab": {
          "base_uri": "https://localhost:8080/"
        },
        "id": "e3bjy1E3R-MN",
        "outputId": "eb0b390b-299d-41ec-f67e-87e34482a46e"
      },
      "outputs": [
        {
          "data": {
            "text/plain": [
              "device(type='cuda', index=0)"
            ]
          },
          "execution_count": 18,
          "metadata": {},
          "output_type": "execute_result"
        }
      ],
      "source": [
        "model.device"
      ]
    },
    {
      "cell_type": "code",
      "execution_count": null,
      "metadata": {
        "colab": {
          "background_save": true,
          "base_uri": "https://localhost:8080/"
        },
        "id": "iIdwB1tDq1Jc",
        "outputId": "63ef0518-5c25-4bd6-c5b0-c14e683d3faa"
      },
      "outputs": [
        {
          "name": "stderr",
          "output_type": "stream",
          "text": [
            "vae/diffusion_pytorch_model.safetensors not found\n"
          ]
        }
      ],
      "source": [
        "model_id = \"stabilityai/stable-diffusion-2\"\n",
        "scheduler = EulerDiscreteScheduler.from_pretrained(model_id,\n",
        "                                                   subfolder=\"scheduler\")\n",
        "\n",
        "pipe = StableDiffusionPipeline.from_pretrained(model_id,\n",
        "                                               scheduler=scheduler,\n",
        "                                               revision=\"fp16\",\n",
        "                                               torch_dtype=torch.float16)\n",
        "pipe = pipe.to(\"cuda\")"
      ]
    },
    {
      "cell_type": "markdown",
      "metadata": {
        "id": "14CPZJMxY_Ks"
      },
      "source": [
        "# Transcribe Function"
      ]
    },
    {
      "cell_type": "code",
      "execution_count": null,
      "metadata": {
        "id": "JtTvvQQPcOZZ"
      },
      "outputs": [],
      "source": [
        "def transcribe(audio):\n",
        "\n",
        "    # load audio and pad/trim it to fit 30 seconds\n",
        "    audio = whisper.load_audio(audio)\n",
        "    audio = whisper.pad_or_trim(audio)\n",
        "\n",
        "    # make log-Mel spectrogram and move to the same device as the model\n",
        "    mel = whisper.log_mel_spectrogram(audio).to(model.device)\n",
        "\n",
        "    # detect the spoken language\n",
        "    _, probs = model.detect_language(mel)\n",
        "\n",
        "    # decode the audio\n",
        "    options = whisper.DecodingOptions()\n",
        "    result = whisper.decode(model, mel, options)\n",
        "    result_text = result.text\n",
        "\n",
        "    # Pass the generated text to Audio\n",
        "    chatgpt_api = ChatGPT(secret_token)\n",
        "    resp = chatgpt_api.send_message(result_text)\n",
        "    out_result = resp['message']\n",
        "\n",
        "    out_image = pipe(out_result, height=768, width=768).images[0]\n",
        "\n",
        "    return [result_text, out_result, out_image]"
      ]
    },
    {
      "cell_type": "markdown",
      "metadata": {
        "id": "aJaFmE9aZB_8"
      },
      "source": [
        "# Gradio Interface"
      ]
    },
    {
      "cell_type": "code",
      "execution_count": null,
      "metadata": {
        "colab": {
          "base_uri": "https://localhost:8080/",
          "height": 591
        },
        "id": "deSAVvfJcWBo",
        "outputId": "af0f4d89-f3bb-4a05-896f-435d29752708"
      },
      "outputs": [
        {
          "name": "stdout",
          "output_type": "stream",
          "text": [
            "Colab notebook detected. To show errors in colab notebook, set debug=True in launch()\n",
            "Running on public URL: https://80e7fe0b4c1dd184d6.gradio.live\n",
            "\n",
            "This share link expires in 72 hours. For free permanent hosting and GPU upgrades, run `gradio deploy` from Terminal to deploy to Spaces (https://huggingface.co/spaces)\n"
          ]
        },
        {
          "data": {
            "text/html": [
              "<div><iframe src=\"https://80e7fe0b4c1dd184d6.gradio.live\" width=\"100%\" height=\"500\" allow=\"autoplay; camera; microphone; clipboard-read; clipboard-write;\" frameborder=\"0\" allowfullscreen></iframe></div>"
            ],
            "text/plain": [
              "<IPython.core.display.HTML object>"
            ]
          },
          "metadata": {},
          "output_type": "display_data"
        },
        {
          "data": {
            "text/plain": []
          },
          "execution_count": 10,
          "metadata": {},
          "output_type": "execute_result"
        }
      ],
      "source": [
        "output_1 = gr.Textbox(label=\"Speech to Text\")\n",
        "output_2 = gr.Textbox(label=\"ChatGPT Output\")\n",
        "output_3 = gr.Image(label=\"Diffusion Output\")\n",
        "\n",
        "gr.Interface(\n",
        "    title = 'OpenAI Whisper and ChatGPT ASR Gradio Web UI',\n",
        "    fn=transcribe,\n",
        "    inputs=[\n",
        "        gr.inputs.Audio(source=\"microphone\", type=\"filepath\")\n",
        "    ],\n",
        "\n",
        "    outputs=[\n",
        "        output_1,  output_2, output_3\n",
        "    ],\n",
        "    live=True).launch(share = True)"
      ]
    },
    {
      "cell_type": "code",
      "execution_count": null,
      "metadata": {
        "id": "y2Zid2MKdPxK"
      },
      "outputs": [],
      "source": []
    }
  ],
  "metadata": {
    "accelerator": "GPU",
    "colab": {
      "collapsed_sections": [
        "kvi6cAEHY5sh",
        "usUSep_lY7q8",
        "14CPZJMxY_Ks",
        "aJaFmE9aZB_8"
      ],
      "provenance": []
    },
    "gpuClass": "standard",
    "kernelspec": {
      "display_name": "Python 3 (ipykernel)",
      "language": "python",
      "name": "python3"
    },
    "language_info": {
      "codemirror_mode": {
        "name": "ipython",
        "version": 3
      },
      "file_extension": ".py",
      "mimetype": "text/x-python",
      "name": "python",
      "nbconvert_exporter": "python",
      "pygments_lexer": "ipython3",
      "version": "3.9.9"
    }
  },
  "nbformat": 4,
  "nbformat_minor": 0
}